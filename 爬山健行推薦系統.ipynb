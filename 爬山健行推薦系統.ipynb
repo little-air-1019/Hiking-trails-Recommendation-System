{
  "cells": [
    {
      "cell_type": "markdown",
      "source": [
        "### 抓取步道資料並存檔"
      ],
      "metadata": {
        "id": "qUm26L9iBocJ"
      }
    },
    {
      "cell_type": "code",
      "execution_count": null,
      "metadata": {
        "id": "qMG_GMhuQByd"
      },
      "outputs": [],
      "source": [
        "# # 抓取步道資料\n",
        "# import requests\n",
        "# from bs4 import BeautifulSoup\n",
        "# import collections\n",
        "# data = collections.defaultdict(dict)\n",
        "\n",
        "# i = 1\n",
        "# while i < 2000:\n",
        "#     url = f'https://hiking.biji.co/index.php?q=trail&act=detail&id={i}'\n",
        "#     re = requests.get(url)\n",
        "#     soup = BeautifulSoup(re.text, \"html.parser\")\n",
        "#     title = soup.find('h1', {'class': \"text-3xl font-bold\"})\n",
        "#     info = soup.find_all('dd', {'class': \"flex-1 p-4\"})\n",
        "#     try:\n",
        "#         if info[0].text == '香港' or info[0].text == '西班牙':\n",
        "#             i += 1\n",
        "#             continue\n",
        "#     except IndexError:\n",
        "#         i+=1\n",
        "#         continue\n",
        "#     if info[0].text == '香港' or info[0].text == '西班牙':\n",
        "#         continue\n",
        "#     try:\n",
        "#         print(title.text)\n",
        "#         data[title.text]['所在縣市'] = info[0].text\n",
        "#         data[title.text]['里程'] = info[1].text\n",
        "#         data[title.text]['步道類型'] = info[2].text\n",
        "#         data[title.text]['步道型態'] = info[3].text\n",
        "#         data[title.text]['海拔高度'] = info[4].text\n",
        "#         data[title.text]['高度落差'] = info[5].text\n",
        "#         data[title.text]['路面狀況'] = info[6].text\n",
        "#         data[title.text]['所需時間'] = info[7].text\n",
        "#         data[title.text]['難易度'] = info[8].text\n",
        "#         # print(f'所在縣市:{info[0].text}')\n",
        "#         # print(f'里程:{info[1].text}')\n",
        "#         # print(f'步道類型:{info[2].text}')\n",
        "#         # print(f'步道型態:{info[3].text}')\n",
        "#         # print(f'海拔高度:{info[4].text}')\n",
        "#         # print(f'高度落差:{info[5].text}')\n",
        "#         # print(f'路面狀況:{info[6].text}')\n",
        "#         # print(f'所需時間:{info[7].text}')\n",
        "#         # print(f'難易度:{info[8].text}')\n",
        "#         if info[9].text != '-':\n",
        "#             data[title.text]['所屬園區'] = info[9].text\n",
        "#             # print(f'所屬園區:{info[9].text}')\n",
        "#         if info[10].text != '-':\n",
        "#             data[title.text]['山系'] = info[10].text\n",
        "#             # print(f'山系:{info[10].text}')\n",
        "#         data[title.text]['最適季節'] = info[11].text\n",
        "#         # print(f'最適季節:{info[11].text}')\n",
        "#         apply_m = info[12].text.replace(' ', '').replace('\\n', '')\n",
        "#         apply_p = info[13].text.replace(' ', '').replace('\\n', '')\n",
        "#         data[title.text]['申請入山'] = apply_m\n",
        "#         # print(f'申請入山:{apply_m}')\n",
        "#         if info[9].text != '-':\n",
        "#             if apply_p == '否':\n",
        "#                 data[title.text]['申請入園'] = '否'\n",
        "#                 # print(f'申請入園:否')\n",
        "#             else:\n",
        "#                 data[title.text]['申請入園'] = '是'\n",
        "#                 # print(f'申請入園:是')\n",
        "#         print('')\n",
        "#     except AttributeError:\n",
        "#         i += 1\n",
        "#         continue\n",
        "#     i += 1\n"
      ]
    },
    {
      "cell_type": "code",
      "source": [
        "# ## 將抓下來的資料存檔：'mountain_data.csv'\n",
        "# import pandas as pd\n",
        "# df = pd.DataFrame.from_dict({(i): dict(data)[i]\n",
        "#                            for i in dict(data).keys()},\n",
        "#                        orient='index')\n",
        "# # df.to_csv('mountain_data.csv')"
      ],
      "metadata": {
        "id": "5rh9uxGDdabn"
      },
      "execution_count": null,
      "outputs": []
    },
    {
      "cell_type": "markdown",
      "source": [
        "### 抓取天氣資料"
      ],
      "metadata": {
        "id": "KP44E_NLBwe-"
      }
    },
    {
      "cell_type": "code",
      "source": [
        "import requests\n",
        "import json\n",
        "from bs4 import BeautifulSoup\n",
        "\n",
        "# 此函式輸入地名'台'須寫為'臺'\n",
        "def weather_data(location):\n",
        "\n",
        "    url = 'https://opendata.cwb.gov.tw/api/v1/rest/datastore/F-C0032-001'\n",
        "    params = {\n",
        "        'Authorization': 'CWB-9E6E7429-A9A0-46B1-88AA-CF702E6934B6',\n",
        "        'locationName': location,\n",
        "    }\n",
        "\n",
        "    response = requests.get(url, params=params)\n",
        "    # print(response.status_code)\n",
        "\n",
        "    if response.status_code == 200:\n",
        "        # print(response.text)\n",
        "        data = json.loads(response.text)\n",
        "\n",
        "        location = data['records']['location'][0]['locationName']\n",
        "\n",
        "        weather_elements = data['records']['location'][0]['weatherElement']\n",
        "        date = weather_elements[0]['time'][0]['startTime'][:10]\n",
        "        start_time = weather_elements[0]['time'][0]['startTime'][-8:]\n",
        "        end_time = weather_elements[0]['time'][0]['endTime'][-8:]\n",
        "        weather_state = weather_elements[0]['time'][0]['parameter']['parameterName']\n",
        "        rain_prob = weather_elements[1]['time'][0]['parameter']['parameterName']\n",
        "        min_tem = weather_elements[2]['time'][0]['parameter']['parameterName']\n",
        "        comfort = weather_elements[3]['time'][0]['parameter']['parameterName']\n",
        "        max_tem = weather_elements[4]['time'][0]['parameter']['parameterName']\n",
        "\n",
        "        # print('地點：', location)\n",
        "        # print('日期:', date)\n",
        "        # print('時間：',str(start_time) + '-' + str(end_time))\n",
        "        # print('天氣：', weather_state)\n",
        "        # print('降雨機率：', rain_prob)\n",
        "        # print('最高溫度：', min_tem)\n",
        "        # print('最低溫度：', max_tem)\n",
        "        # print('舒適度：', comfort)\n",
        "        return location, date, str(start_time) + '-' + str(end_time), weather_state, rain_prob, min_tem, max_tem, comfort\n",
        "\n",
        "\n",
        "    else:\n",
        "        return None\n",
        "\n",
        "# print(weather_data())"
      ],
      "metadata": {
        "id": "JejLl7B-wuzv"
      },
      "execution_count": null,
      "outputs": []
    },
    {
      "cell_type": "markdown",
      "source": [
        "### 載入步道資料"
      ],
      "metadata": {
        "id": "CWeW0JptB1Xb"
      }
    },
    {
      "cell_type": "code",
      "source": [
        "import pandas as pd\n",
        "df = pd.read_csv('mountain_data.csv')"
      ],
      "metadata": {
        "id": "qn-D_iRK2XFe",
        "colab": {
          "base_uri": "https://localhost:8080/",
          "height": 330
        },
        "outputId": "92fbea8e-0f3a-430c-8145-8b11616f633f"
      },
      "execution_count": null,
      "outputs": [
        {
          "output_type": "error",
          "ename": "FileNotFoundError",
          "evalue": "ignored",
          "traceback": [
            "\u001b[0;31m---------------------------------------------------------------------------\u001b[0m",
            "\u001b[0;31mFileNotFoundError\u001b[0m                         Traceback (most recent call last)",
            "\u001b[0;32m<ipython-input-7-b152ae564486>\u001b[0m in \u001b[0;36m<module>\u001b[0;34m()\u001b[0m\n\u001b[1;32m      1\u001b[0m \u001b[0;32mimport\u001b[0m \u001b[0mpandas\u001b[0m \u001b[0;32mas\u001b[0m \u001b[0mpd\u001b[0m\u001b[0;34m\u001b[0m\u001b[0;34m\u001b[0m\u001b[0m\n\u001b[0;32m----> 2\u001b[0;31m \u001b[0mdf\u001b[0m \u001b[0;34m=\u001b[0m \u001b[0mpd\u001b[0m\u001b[0;34m.\u001b[0m\u001b[0mread_csv\u001b[0m\u001b[0;34m(\u001b[0m\u001b[0;34m'mountain_data.csv'\u001b[0m\u001b[0;34m)\u001b[0m\u001b[0;34m\u001b[0m\u001b[0;34m\u001b[0m\u001b[0m\n\u001b[0m",
            "\u001b[0;32m/usr/local/lib/python3.7/dist-packages/pandas/util/_decorators.py\u001b[0m in \u001b[0;36mwrapper\u001b[0;34m(*args, **kwargs)\u001b[0m\n\u001b[1;32m    309\u001b[0m                     \u001b[0mstacklevel\u001b[0m\u001b[0;34m=\u001b[0m\u001b[0mstacklevel\u001b[0m\u001b[0;34m,\u001b[0m\u001b[0;34m\u001b[0m\u001b[0;34m\u001b[0m\u001b[0m\n\u001b[1;32m    310\u001b[0m                 )\n\u001b[0;32m--> 311\u001b[0;31m             \u001b[0;32mreturn\u001b[0m \u001b[0mfunc\u001b[0m\u001b[0;34m(\u001b[0m\u001b[0;34m*\u001b[0m\u001b[0margs\u001b[0m\u001b[0;34m,\u001b[0m \u001b[0;34m**\u001b[0m\u001b[0mkwargs\u001b[0m\u001b[0;34m)\u001b[0m\u001b[0;34m\u001b[0m\u001b[0;34m\u001b[0m\u001b[0m\n\u001b[0m\u001b[1;32m    312\u001b[0m \u001b[0;34m\u001b[0m\u001b[0m\n\u001b[1;32m    313\u001b[0m         \u001b[0;32mreturn\u001b[0m \u001b[0mwrapper\u001b[0m\u001b[0;34m\u001b[0m\u001b[0;34m\u001b[0m\u001b[0m\n",
            "\u001b[0;32m/usr/local/lib/python3.7/dist-packages/pandas/io/parsers/readers.py\u001b[0m in \u001b[0;36mread_csv\u001b[0;34m(filepath_or_buffer, sep, delimiter, header, names, index_col, usecols, squeeze, prefix, mangle_dupe_cols, dtype, engine, converters, true_values, false_values, skipinitialspace, skiprows, skipfooter, nrows, na_values, keep_default_na, na_filter, verbose, skip_blank_lines, parse_dates, infer_datetime_format, keep_date_col, date_parser, dayfirst, cache_dates, iterator, chunksize, compression, thousands, decimal, lineterminator, quotechar, quoting, doublequote, escapechar, comment, encoding, encoding_errors, dialect, error_bad_lines, warn_bad_lines, on_bad_lines, delim_whitespace, low_memory, memory_map, float_precision, storage_options)\u001b[0m\n\u001b[1;32m    584\u001b[0m     \u001b[0mkwds\u001b[0m\u001b[0;34m.\u001b[0m\u001b[0mupdate\u001b[0m\u001b[0;34m(\u001b[0m\u001b[0mkwds_defaults\u001b[0m\u001b[0;34m)\u001b[0m\u001b[0;34m\u001b[0m\u001b[0;34m\u001b[0m\u001b[0m\n\u001b[1;32m    585\u001b[0m \u001b[0;34m\u001b[0m\u001b[0m\n\u001b[0;32m--> 586\u001b[0;31m     \u001b[0;32mreturn\u001b[0m \u001b[0m_read\u001b[0m\u001b[0;34m(\u001b[0m\u001b[0mfilepath_or_buffer\u001b[0m\u001b[0;34m,\u001b[0m \u001b[0mkwds\u001b[0m\u001b[0;34m)\u001b[0m\u001b[0;34m\u001b[0m\u001b[0;34m\u001b[0m\u001b[0m\n\u001b[0m\u001b[1;32m    587\u001b[0m \u001b[0;34m\u001b[0m\u001b[0m\n\u001b[1;32m    588\u001b[0m \u001b[0;34m\u001b[0m\u001b[0m\n",
            "\u001b[0;32m/usr/local/lib/python3.7/dist-packages/pandas/io/parsers/readers.py\u001b[0m in \u001b[0;36m_read\u001b[0;34m(filepath_or_buffer, kwds)\u001b[0m\n\u001b[1;32m    480\u001b[0m \u001b[0;34m\u001b[0m\u001b[0m\n\u001b[1;32m    481\u001b[0m     \u001b[0;31m# Create the parser.\u001b[0m\u001b[0;34m\u001b[0m\u001b[0;34m\u001b[0m\u001b[0;34m\u001b[0m\u001b[0m\n\u001b[0;32m--> 482\u001b[0;31m     \u001b[0mparser\u001b[0m \u001b[0;34m=\u001b[0m \u001b[0mTextFileReader\u001b[0m\u001b[0;34m(\u001b[0m\u001b[0mfilepath_or_buffer\u001b[0m\u001b[0;34m,\u001b[0m \u001b[0;34m**\u001b[0m\u001b[0mkwds\u001b[0m\u001b[0;34m)\u001b[0m\u001b[0;34m\u001b[0m\u001b[0;34m\u001b[0m\u001b[0m\n\u001b[0m\u001b[1;32m    483\u001b[0m \u001b[0;34m\u001b[0m\u001b[0m\n\u001b[1;32m    484\u001b[0m     \u001b[0;32mif\u001b[0m \u001b[0mchunksize\u001b[0m \u001b[0;32mor\u001b[0m \u001b[0miterator\u001b[0m\u001b[0;34m:\u001b[0m\u001b[0;34m\u001b[0m\u001b[0;34m\u001b[0m\u001b[0m\n",
            "\u001b[0;32m/usr/local/lib/python3.7/dist-packages/pandas/io/parsers/readers.py\u001b[0m in \u001b[0;36m__init__\u001b[0;34m(self, f, engine, **kwds)\u001b[0m\n\u001b[1;32m    809\u001b[0m             \u001b[0mself\u001b[0m\u001b[0;34m.\u001b[0m\u001b[0moptions\u001b[0m\u001b[0;34m[\u001b[0m\u001b[0;34m\"has_index_names\"\u001b[0m\u001b[0;34m]\u001b[0m \u001b[0;34m=\u001b[0m \u001b[0mkwds\u001b[0m\u001b[0;34m[\u001b[0m\u001b[0;34m\"has_index_names\"\u001b[0m\u001b[0;34m]\u001b[0m\u001b[0;34m\u001b[0m\u001b[0;34m\u001b[0m\u001b[0m\n\u001b[1;32m    810\u001b[0m \u001b[0;34m\u001b[0m\u001b[0m\n\u001b[0;32m--> 811\u001b[0;31m         \u001b[0mself\u001b[0m\u001b[0;34m.\u001b[0m\u001b[0m_engine\u001b[0m \u001b[0;34m=\u001b[0m \u001b[0mself\u001b[0m\u001b[0;34m.\u001b[0m\u001b[0m_make_engine\u001b[0m\u001b[0;34m(\u001b[0m\u001b[0mself\u001b[0m\u001b[0;34m.\u001b[0m\u001b[0mengine\u001b[0m\u001b[0;34m)\u001b[0m\u001b[0;34m\u001b[0m\u001b[0;34m\u001b[0m\u001b[0m\n\u001b[0m\u001b[1;32m    812\u001b[0m \u001b[0;34m\u001b[0m\u001b[0m\n\u001b[1;32m    813\u001b[0m     \u001b[0;32mdef\u001b[0m \u001b[0mclose\u001b[0m\u001b[0;34m(\u001b[0m\u001b[0mself\u001b[0m\u001b[0;34m)\u001b[0m\u001b[0;34m:\u001b[0m\u001b[0;34m\u001b[0m\u001b[0;34m\u001b[0m\u001b[0m\n",
            "\u001b[0;32m/usr/local/lib/python3.7/dist-packages/pandas/io/parsers/readers.py\u001b[0m in \u001b[0;36m_make_engine\u001b[0;34m(self, engine)\u001b[0m\n\u001b[1;32m   1038\u001b[0m             )\n\u001b[1;32m   1039\u001b[0m         \u001b[0;31m# error: Too many arguments for \"ParserBase\"\u001b[0m\u001b[0;34m\u001b[0m\u001b[0;34m\u001b[0m\u001b[0;34m\u001b[0m\u001b[0m\n\u001b[0;32m-> 1040\u001b[0;31m         \u001b[0;32mreturn\u001b[0m \u001b[0mmapping\u001b[0m\u001b[0;34m[\u001b[0m\u001b[0mengine\u001b[0m\u001b[0;34m]\u001b[0m\u001b[0;34m(\u001b[0m\u001b[0mself\u001b[0m\u001b[0;34m.\u001b[0m\u001b[0mf\u001b[0m\u001b[0;34m,\u001b[0m \u001b[0;34m**\u001b[0m\u001b[0mself\u001b[0m\u001b[0;34m.\u001b[0m\u001b[0moptions\u001b[0m\u001b[0;34m)\u001b[0m  \u001b[0;31m# type: ignore[call-arg]\u001b[0m\u001b[0;34m\u001b[0m\u001b[0;34m\u001b[0m\u001b[0m\n\u001b[0m\u001b[1;32m   1041\u001b[0m \u001b[0;34m\u001b[0m\u001b[0m\n\u001b[1;32m   1042\u001b[0m     \u001b[0;32mdef\u001b[0m \u001b[0m_failover_to_python\u001b[0m\u001b[0;34m(\u001b[0m\u001b[0mself\u001b[0m\u001b[0;34m)\u001b[0m\u001b[0;34m:\u001b[0m\u001b[0;34m\u001b[0m\u001b[0;34m\u001b[0m\u001b[0m\n",
            "\u001b[0;32m/usr/local/lib/python3.7/dist-packages/pandas/io/parsers/c_parser_wrapper.py\u001b[0m in \u001b[0;36m__init__\u001b[0;34m(self, src, **kwds)\u001b[0m\n\u001b[1;32m     49\u001b[0m \u001b[0;34m\u001b[0m\u001b[0m\n\u001b[1;32m     50\u001b[0m         \u001b[0;31m# open handles\u001b[0m\u001b[0;34m\u001b[0m\u001b[0;34m\u001b[0m\u001b[0;34m\u001b[0m\u001b[0m\n\u001b[0;32m---> 51\u001b[0;31m         \u001b[0mself\u001b[0m\u001b[0;34m.\u001b[0m\u001b[0m_open_handles\u001b[0m\u001b[0;34m(\u001b[0m\u001b[0msrc\u001b[0m\u001b[0;34m,\u001b[0m \u001b[0mkwds\u001b[0m\u001b[0;34m)\u001b[0m\u001b[0;34m\u001b[0m\u001b[0;34m\u001b[0m\u001b[0m\n\u001b[0m\u001b[1;32m     52\u001b[0m         \u001b[0;32massert\u001b[0m \u001b[0mself\u001b[0m\u001b[0;34m.\u001b[0m\u001b[0mhandles\u001b[0m \u001b[0;32mis\u001b[0m \u001b[0;32mnot\u001b[0m \u001b[0;32mNone\u001b[0m\u001b[0;34m\u001b[0m\u001b[0;34m\u001b[0m\u001b[0m\n\u001b[1;32m     53\u001b[0m \u001b[0;34m\u001b[0m\u001b[0m\n",
            "\u001b[0;32m/usr/local/lib/python3.7/dist-packages/pandas/io/parsers/base_parser.py\u001b[0m in \u001b[0;36m_open_handles\u001b[0;34m(self, src, kwds)\u001b[0m\n\u001b[1;32m    227\u001b[0m             \u001b[0mmemory_map\u001b[0m\u001b[0;34m=\u001b[0m\u001b[0mkwds\u001b[0m\u001b[0;34m.\u001b[0m\u001b[0mget\u001b[0m\u001b[0;34m(\u001b[0m\u001b[0;34m\"memory_map\"\u001b[0m\u001b[0;34m,\u001b[0m \u001b[0;32mFalse\u001b[0m\u001b[0;34m)\u001b[0m\u001b[0;34m,\u001b[0m\u001b[0;34m\u001b[0m\u001b[0;34m\u001b[0m\u001b[0m\n\u001b[1;32m    228\u001b[0m             \u001b[0mstorage_options\u001b[0m\u001b[0;34m=\u001b[0m\u001b[0mkwds\u001b[0m\u001b[0;34m.\u001b[0m\u001b[0mget\u001b[0m\u001b[0;34m(\u001b[0m\u001b[0;34m\"storage_options\"\u001b[0m\u001b[0;34m,\u001b[0m \u001b[0;32mNone\u001b[0m\u001b[0;34m)\u001b[0m\u001b[0;34m,\u001b[0m\u001b[0;34m\u001b[0m\u001b[0;34m\u001b[0m\u001b[0m\n\u001b[0;32m--> 229\u001b[0;31m             \u001b[0merrors\u001b[0m\u001b[0;34m=\u001b[0m\u001b[0mkwds\u001b[0m\u001b[0;34m.\u001b[0m\u001b[0mget\u001b[0m\u001b[0;34m(\u001b[0m\u001b[0;34m\"encoding_errors\"\u001b[0m\u001b[0;34m,\u001b[0m \u001b[0;34m\"strict\"\u001b[0m\u001b[0;34m)\u001b[0m\u001b[0;34m,\u001b[0m\u001b[0;34m\u001b[0m\u001b[0;34m\u001b[0m\u001b[0m\n\u001b[0m\u001b[1;32m    230\u001b[0m         )\n\u001b[1;32m    231\u001b[0m \u001b[0;34m\u001b[0m\u001b[0m\n",
            "\u001b[0;32m/usr/local/lib/python3.7/dist-packages/pandas/io/common.py\u001b[0m in \u001b[0;36mget_handle\u001b[0;34m(path_or_buf, mode, encoding, compression, memory_map, is_text, errors, storage_options)\u001b[0m\n\u001b[1;32m    705\u001b[0m                 \u001b[0mencoding\u001b[0m\u001b[0;34m=\u001b[0m\u001b[0mioargs\u001b[0m\u001b[0;34m.\u001b[0m\u001b[0mencoding\u001b[0m\u001b[0;34m,\u001b[0m\u001b[0;34m\u001b[0m\u001b[0;34m\u001b[0m\u001b[0m\n\u001b[1;32m    706\u001b[0m                 \u001b[0merrors\u001b[0m\u001b[0;34m=\u001b[0m\u001b[0merrors\u001b[0m\u001b[0;34m,\u001b[0m\u001b[0;34m\u001b[0m\u001b[0;34m\u001b[0m\u001b[0m\n\u001b[0;32m--> 707\u001b[0;31m                 \u001b[0mnewline\u001b[0m\u001b[0;34m=\u001b[0m\u001b[0;34m\"\"\u001b[0m\u001b[0;34m,\u001b[0m\u001b[0;34m\u001b[0m\u001b[0;34m\u001b[0m\u001b[0m\n\u001b[0m\u001b[1;32m    708\u001b[0m             )\n\u001b[1;32m    709\u001b[0m         \u001b[0;32melse\u001b[0m\u001b[0;34m:\u001b[0m\u001b[0;34m\u001b[0m\u001b[0;34m\u001b[0m\u001b[0m\n",
            "\u001b[0;31mFileNotFoundError\u001b[0m: [Errno 2] No such file or directory: 'mountain_data.csv'"
          ]
        }
      ]
    },
    {
      "cell_type": "code",
      "source": [
        "df"
      ],
      "metadata": {
        "id": "rHXp7mbc3URO"
      },
      "execution_count": null,
      "outputs": []
    },
    {
      "cell_type": "markdown",
      "source": [
        "將步道名稱設為index，把 NaN 變成'無'"
      ],
      "metadata": {
        "id": "qjNjdBHGCDTM"
      }
    },
    {
      "cell_type": "code",
      "source": [
        "df2 = df.set_index('Unnamed: 0')\n",
        "df2.fillna('無', inplace=True)"
      ],
      "metadata": {
        "id": "nmISRpSoX9NN"
      },
      "execution_count": null,
      "outputs": []
    },
    {
      "cell_type": "markdown",
      "source": [
        "將時間轉到對應 '1小時以下','1-2小時','2-4小時','4小時以上' 四個時間區段，並存到'class_list'"
      ],
      "metadata": {
        "id": "5ajaepdtCIfg"
      }
    },
    {
      "cell_type": "code",
      "source": [
        "class_list = []\n",
        "ref_list = df['所需時間'].values.tolist().copy()\n",
        "for item in ref_list:\n",
        "  item = item.replace(' ','').replace('(往返)','')\n",
        "  if '天' in item:\n",
        "    class_list.append('4小時以上')\n",
        "  else:\n",
        "    if '小時' not in item:\n",
        "      class_list.append('1小時以下')\n",
        "    else:\n",
        "      H = int(item.split('小時')[0])\n",
        "      if H>=1 and H<2:\n",
        "        class_list.append('1~2小時')\n",
        "      elif H>=2 and H<4:\n",
        "        class_list.append('2~4小時')\n",
        "      elif H>=4:\n",
        "        class_list.append('4小時以上')"
      ],
      "metadata": {
        "id": "iJ9G9JSP8Jx3"
      },
      "execution_count": null,
      "outputs": []
    },
    {
      "cell_type": "markdown",
      "source": [
        "### 測試"
      ],
      "metadata": {
        "id": "d7JyREBqCXJG"
      }
    },
    {
      "cell_type": "code",
      "source": [
        "# type_1 = True\n",
        "# type_c = True\n",
        "# type_2 = False\n",
        "# time = '1~2小時'\n",
        "# application = '否'\n",
        "# easy ='低'\n",
        "# place = '台北市'\n",
        "\n",
        "# if type_1:\n",
        "#   type1_list = df.iloc[:,0][list(map(lambda x: x=='必須折返',df['步道型態'].values))].tolist()\n",
        "# else:\n",
        "#   type1_list = []\n",
        "# if type_c:\n",
        "#   typec_list = df.iloc[:,0][list(map(lambda x: x=='環狀',df['步道型態'].values))].tolist()\n",
        "# else:\n",
        "#   typec_list = []\n",
        "# if type_2:\n",
        "#   type2_list = df.iloc[:,0][list(map(lambda x: x=='雙向進出',df['步道型態'].values))].tolist()\n",
        "# else:\n",
        "#   type2_list = []\n",
        "# type_list =  type2_list + typec_list + type1_list\n",
        "# # 所需時間\n",
        "# is_time_list = df.iloc[:,0][list(map(lambda x: x==time,class_list))].tolist()\n",
        "# # 申請入山\n",
        "# application_or_not_list = df.iloc[:,0][list(map(lambda x: x==application,df['申請入山'].values))].tolist()\n",
        "# # 難易度\n",
        "# easy_hard_list = df.iloc[:,0][list(map(lambda x: x==easy,df['難易度'].values))].tolist()\n",
        "# # 所在縣市\n",
        "# place_list = df.iloc[:,0][list(map(lambda x: x[:3]==place,df['所在縣市'].values))].tolist()\n",
        "\n",
        "# union_list = list(set(place_list) & set(easy_hard_list) & set(type_list) & set(is_time_list) & set(application_or_not_list))\n",
        "\n"
      ],
      "metadata": {
        "id": "K8dR-q8bAYVh"
      },
      "execution_count": null,
      "outputs": []
    },
    {
      "cell_type": "markdown",
      "source": [
        "### 連接 Anvil"
      ],
      "metadata": {
        "id": "XIGb8ehZyJho"
      }
    },
    {
      "cell_type": "markdown",
      "source": [
        "連接"
      ],
      "metadata": {
        "id": "M8Phg99ECbzW"
      }
    },
    {
      "cell_type": "code",
      "source": [
        "!pip install anvil-uplink"
      ],
      "metadata": {
        "id": "RjGPgsSqs6tT"
      },
      "execution_count": null,
      "outputs": []
    },
    {
      "cell_type": "code",
      "source": [
        "import anvil.server"
      ],
      "metadata": {
        "id": "5jUvBYrztDYx"
      },
      "execution_count": null,
      "outputs": []
    },
    {
      "cell_type": "code",
      "source": [
        "anvil.server.connect(\"JCGNZVCRESJZ55NJUV5LR6PK-XHDA7WOZDBWIYGZF\")"
      ],
      "metadata": {
        "id": "kfX7maYkonkf",
        "colab": {
          "base_uri": "https://localhost:8080/"
        },
        "outputId": "da877192-b963-4501-84ad-ebc9d8c1751b"
      },
      "execution_count": null,
      "outputs": [
        {
          "output_type": "stream",
          "name": "stdout",
          "text": [
            "Connecting to wss://anvil.works/uplink\n",
            "Anvil websocket open\n",
            "Connected to \"Default environment\" as SERVER\n"
          ]
        }
      ]
    },
    {
      "cell_type": "markdown",
      "source": [
        "對傳入的值做運算後輸出"
      ],
      "metadata": {
        "id": "kCVKrtvrCedu"
      }
    },
    {
      "cell_type": "code",
      "source": [
        "# 推薦步道\n",
        "@anvil.server.callable\n",
        "def search(time,type_1,type_2,type_c,place,easy,application):\n",
        "  # 步道型態\n",
        "  if type_1:\n",
        "    type1_list = df.iloc[:,0][list(map(lambda x: x=='必須折返',df['步道型態'].values))].tolist()\n",
        "  else:\n",
        "    type1_list = []\n",
        "  if type_c:\n",
        "    typec_list = df.iloc[:,0][list(map(lambda x: x=='環狀',df['步道型態'].values))].tolist()\n",
        "  else:\n",
        "    typec_list = []\n",
        "  if type_2:\n",
        "    type2_list = df.iloc[:,0][list(map(lambda x: x=='雙向進出',df['步道型態'].values))].tolist()\n",
        "  else:\n",
        "    type2_list = []\n",
        "  type_list =  type2_list + typec_list + type1_list\n",
        "  # 所需時間\n",
        "  is_time_list = df.iloc[:,0][list(map(lambda x: x==time,class_list))].tolist()\n",
        "  # 申請入山\n",
        "  application_or_not_list = df.iloc[:,0][list(map(lambda x: x==application,df['申請入山'].values))].tolist()\n",
        "  # 難易度\n",
        "  easy_hard_list = df.iloc[:,0][list(map(lambda x: x==easy,df['難易度'].values))].tolist()\n",
        "  # 所在縣市\n",
        "  place_list = df.iloc[:,0][list(map(lambda x: x[:3]==place,df['所在縣市'].values))].tolist()\n",
        "\n",
        "  union_list = list(set(place_list) & set(easy_hard_list) & set(type_list) & set(is_time_list) & set(application_or_not_list))\n",
        "\n",
        "  filter_dict = df2.loc[union_list].to_dict('records')\n",
        "  filter_list = []\n",
        "  for j in range(len(filter_dict)):\n",
        "    filter_dict[j]['步道'] = union_list[j]\n",
        "    filter_list.append(filter_dict[j])\n",
        "  # if union_list !=[]:\n",
        "  #   txt = ', '.join(i for i in union_list)\n",
        "  # else:\n",
        "  #   txt = '查無資訊！'\n",
        "  return filter_list\n",
        "\n",
        "# 搜尋指定縣市天氣\n",
        "@anvil.server.callable\n",
        "def search_weather(place):\n",
        "  if '台' in place:\n",
        "    place = place.replace('台','臺')\n",
        "  if weather_data(place) is not None:\n",
        "    location, date, time, weather_state, rain_prob, min_tem, max_tem, comfort = weather_data(place)\n",
        "  else:\n",
        "    weather_value_txt ='查無資訊'\n",
        "    weather_name_txt =''\n",
        "  nl = '\\n'\n",
        "  # weather_name_txt = f'地點：{location}{nl}日期：{date}{nl}時間：{time}{nl}天氣：{weather_state}{nl}天氣：{weather_state}{nl}降雨機率：{rain_prob}%{nl}最高溫度：{min_tem}˚C{nl}最低溫度：{max_tem}{nl}˚C舒適度：{comfort}{nl}'\n",
        "  weather_value_txt = f'{location}{nl}{date}{nl}{time}{nl}{weather_state}{nl}{weather_state}{nl}{rain_prob}%{nl}{min_tem}˚C{nl}{max_tem}˚C{nl}{comfort}'\n",
        "  weather_name_txt = f'地點：{nl}日期：{nl}時間：{nl}天氣：{nl}天氣：{nl}降雨機率：{nl}最高溫度：{nl}最低溫度：{nl}舒適度：'\n",
        "\n",
        "  return weather_value_txt,weather_name_txt"
      ],
      "metadata": {
        "id": "FiP0I158tIIV"
      },
      "execution_count": null,
      "outputs": []
    },
    {
      "cell_type": "markdown",
      "source": [
        "讓 anvil 視窗處於持續接收訊息狀態"
      ],
      "metadata": {
        "id": "tihL9r7mClVl"
      }
    },
    {
      "cell_type": "code",
      "source": [
        "anvil.server.wait_forever()"
      ],
      "metadata": {
        "id": "vq9pzXL0tbKm"
      },
      "execution_count": null,
      "outputs": []
    },
    {
      "cell_type": "code",
      "source": [],
      "metadata": {
        "id": "DYjGVKoDvBvh"
      },
      "execution_count": null,
      "outputs": []
    }
  ],
  "metadata": {
    "colab": {
      "provenance": [],
      "collapsed_sections": [
        "qUm26L9iBocJ",
        "KP44E_NLBwe-",
        "d7JyREBqCXJG"
      ]
    },
    "kernelspec": {
      "display_name": "Python 3",
      "name": "python3"
    },
    "language_info": {
      "name": "python"
    }
  },
  "nbformat": 4,
  "nbformat_minor": 0
}